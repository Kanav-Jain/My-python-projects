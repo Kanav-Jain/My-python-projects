{
  "nbformat": 4,
  "nbformat_minor": 0,
  "metadata": {
    "colab": {
      "name": "Hoolywood/Bollywood_Game.ipynb",
      "provenance": [],
      "collapsed_sections": []
    },
    "kernelspec": {
      "name": "python3",
      "display_name": "Python 3"
    },
    "language_info": {
      "name": "python"
    }
  },
  "cells": [
    {
      "cell_type": "markdown",
      "metadata": {
        "id": "LkLlYPdUcLfk"
      },
      "source": [
        "# Bollywood Game\n"
      ]
    },
    {
      "cell_type": "markdown",
      "metadata": {
        "id": "wsB9Dk_VcStP"
      },
      "source": [
        "To make this game we need to follow the following steps\n",
        "1. Get any random word.\n",
        "2. Function to create the dashes.\n",
        "3. A loop for the next _ steps.\n",
        "4. Get an alphabet input from the user and create a function to validate it.\n",
        "5. Create a function to check whether the input is present in the original word.\n",
        "6. Update the word.\n",
        "7. Function to tell whether the game is over or not on the following basis\n",
        "  1. If number of guesses are over.\n",
        "  2. If word = original word.\n",
        "  \n",
        "  If either of the 2 are true, then break out of the loop and print the result."
      ]
    },
    {
      "cell_type": "code",
      "metadata": {
        "id": "mWUN23fSeT90"
      },
      "source": [
        "# Function to create the dashes\n",
        "def create_dashes(string):\n",
        "  s = ''\n",
        "  vowels_lst = [' ','e','i','o','u','a']\n",
        "  for i in string:\n",
        "    if i in vowels_lst:\n",
        "      s = s + i\n",
        "      s = s + ''\n",
        "      continue\n",
        "    else:\n",
        "      s = s + \"_\"\n",
        "  return s    \n",
        "#create_dashes('Black panther')"
      ],
      "execution_count": 1,
      "outputs": []
    },
    {
      "cell_type": "code",
      "metadata": {
        "id": "LD2fZiFnjmqf"
      },
      "source": [
        "#This function will check whether alphabet given by the user is valid and has not be chosen before\n",
        "def get_alpha(lst):\n",
        "  while True:\n",
        "    alphabet = input(\"Enter your guess here: \")\n",
        "    if alphabet in lst or alphabet.isalpha() == False or len(alphabet)>1 or alphabet in ['e','i','o','u','a']:\n",
        "      print(\"Either you have already made that guess or your guess is invalid. Please try again\")\n",
        "      continue\n",
        "    break\n",
        "  return alphabet.lower()     "
      ],
      "execution_count": 2,
      "outputs": []
    },
    {
      "cell_type": "code",
      "metadata": {
        "id": "QQqHILdP01rK"
      },
      "source": [
        "#This function will check whether the validated alphabet is present in the string\n",
        "def check_alpha(a,string):\n",
        "  if a in string:\n",
        "    return True\n",
        "  return False  "
      ],
      "execution_count": 3,
      "outputs": []
    },
    {
      "cell_type": "code",
      "metadata": {
        "id": "yg2O5k32blkr"
      },
      "source": [
        "#This function will update the game string and the number of guesses left\n",
        "def update_game(game,string,alphabet):\n",
        "  # lst = []\n",
        "  for i in range(len(string)):\n",
        "    if alphabet == string[i]:\n",
        "      game = game.replace(string[i],alphabet)\n",
        "      game = game[:i] + alphabet + game[i+1:]\n",
        "  # if lst != []:\n",
        "  #   for x in lst:\n",
        "\n",
        "  return game    "
      ],
      "execution_count": 4,
      "outputs": []
    },
    {
      "cell_type": "code",
      "metadata": {
        "id": "3cvsj18QdUQB",
        "colab": {
          "base_uri": "https://localhost:8080/"
        },
        "outputId": "5c926843-5d3f-4047-cd28-2b896e1a5433"
      },
      "source": [
        "#This is the main logic\n",
        "#Player 1 will enter the word he wants to give to player 2\n",
        "import getpass\n",
        "movie = getpass.getpass(\"Enter the movie here: \").lower()\n",
        "guess_count = len('Hollywood')\n",
        "lst = []\n",
        "game_code = create_dashes(movie) \n",
        "print(\"Here is your game : {}\".format(game_code))\n",
        "\n",
        "while True:   \n",
        "  guess = get_alpha(lst)\n",
        "  lst.append(guess)\n",
        "  if check_alpha(guess,movie) == True:\n",
        "    #update function\n",
        "    game_code = update_game(game_code,movie,guess)\n",
        "    print(\"Your updated game_code is {}. Number of guesses left : {} \".format(game_code,guess_count))\n",
        "    if game_code == movie:\n",
        "      print(\"Excellent you guessed the right movie. your score is {}\".format(guess_count))\n",
        "      break  \n",
        "  else:\n",
        "    \n",
        "    guess_count -= 1\n",
        "    if guess_count == 0:\n",
        "      print(\"Sorry, you have lost. The correct guess was {}\".format(movie))\n",
        "      break\n",
        "    else:\n",
        "      print(\"Sorry your guess is incorrect. Please try again!\")  \n",
        "      print(\"Your updated game_code is {}. Number of guesses left : {} \".format(game_code,guess_count))\n",
        "\n",
        "\n",
        "       \n"
      ],
      "execution_count": 5,
      "outputs": [
        {
          "output_type": "stream",
          "text": [
            "Enter the movie here: ··········\n",
            "Here is your game : __a__ _a___e_\n",
            "Enter your guess here: b\n",
            "Your updated game_code is b_a__ _a___e_. Number of guesses left : 9 \n",
            "Enter your guess here: l\n",
            "Your updated game_code is bla__ _a___e_. Number of guesses left : 9 \n",
            "Enter your guess here: c\n",
            "Your updated game_code is blac_ _a___e_. Number of guesses left : 9 \n",
            "Enter your guess here: k\n",
            "Your updated game_code is black _a___e_. Number of guesses left : 9 \n",
            "Enter your guess here: p\n",
            "Your updated game_code is black pa___e_. Number of guesses left : 9 \n",
            "Enter your guess here: n\n",
            "Your updated game_code is black pan__e_. Number of guesses left : 9 \n",
            "Enter your guess here: t\n",
            "Your updated game_code is black pant_e_. Number of guesses left : 9 \n",
            "Enter your guess here: h\n",
            "Your updated game_code is black panthe_. Number of guesses left : 9 \n",
            "Enter your guess here: e\n",
            "Either you have already made that guess or your guess is invalid. Please try again\n",
            "Enter your guess here: r\n",
            "Your updated game_code is black panther. Number of guesses left : 9 \n",
            "Excellent you guessed the right movie. your score is 9\n"
          ],
          "name": "stdout"
        }
      ]
    }
  ]
}